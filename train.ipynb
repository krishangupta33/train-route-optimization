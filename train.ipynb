{
 "cells": [
  {
   "cell_type": "code",
   "execution_count": 135,
   "metadata": {},
   "outputs": [],
   "source": [
    "import gurobipy as gb\n",
    "from gurobipy import *"
   ]
  },
  {
   "cell_type": "code",
   "execution_count": 136,
   "metadata": {},
   "outputs": [],
   "source": [
    "cycletime = [96,96,48,72,48]\n",
    "\n",
    "sites = [\"Goldsborg\", \"Saratoga\", \"Kingston\", \"Washington\",\"New Bern\"]\n",
    "\n",
    "port_weights=[0.1,0.1,0.4,0.2,0.2]\n",
    "num_wagons= 40\n",
    "load_wagon = 75\n",
    "trains = [\"train 1\", \"train 2\", \"train 3\",\"train 4\",\"train 5\",\"train 6\",\"train 7\",\"train 8\"]\n",
    "S=len(sites)\n",
    "T=len(trains)\n",
    "\n",
    "\n",
    "totaltime = 600  #hours in month\n"
   ]
  },
  {
   "cell_type": "code",
   "execution_count": 137,
   "metadata": {},
   "outputs": [],
   "source": [
    "model = gb.Model(\"Train Utilization\")"
   ]
  },
  {
   "cell_type": "code",
   "execution_count": 138,
   "metadata": {},
   "outputs": [],
   "source": [
    "V = model.addVars(T,S, vtype=GRB.INTEGER, lb=0, name= ['no of visit by '+ train[i] +\" to site  \"+sites[j] for i in range(T) for j in range(S)])\n",
    "# Define the total_trip_count variable\n",
    "total_trip_count = model.addVar(vtype=GRB.INTEGER, name=\"total_trip_count\")\n"
   ]
  },
  {
   "cell_type": "code",
   "execution_count": 139,
   "metadata": {},
   "outputs": [],
   "source": [
    "#Objective function maximisation of utilization\n",
    "model.setObjective(sum(quicksum((V[i,j] for j in range(S))) for i in range(T)), GRB.MAXIMIZE)"
   ]
  },
  {
   "cell_type": "code",
   "execution_count": 140,
   "metadata": {},
   "outputs": [],
   "source": [
    "\n",
    "# Add constraint for total_trip_count\n",
    "model.addConstr(total_trip_count == sum(V[i,j] for i in range(T) for j in range(S)))\n",
    "# Add your original constraint\n",
    "for i in range(S):\n",
    "    model.addConstr(sum(V[j,i] for j in range(T)) == port_weights[i] * total_trip_count)\n",
    "\n",
    "#Adding constraint that cycle time should not exceed 720 hours\n",
    "#model.addConstr(sum(quicksum((V[i,j]*cycletime[j] for j in range(S))) for i in range(T)) <= totaltime*T)\n",
    "\n",
    "#Adding the constraint that individual time of each train should not exceed 720 hours\n",
    "for i in range(T):\n",
    "    model.addConstr(quicksum((V[i,j]*cycletime[j] for j in range(S)))<= totaltime)\n"
   ]
  },
  {
   "cell_type": "code",
   "execution_count": 141,
   "metadata": {},
   "outputs": [],
   "source": [
    "# Adding the constraint to ensure that utilization is between 70% and 76%\n",
    "# for i in range(T):\n",
    "#     utilization = sum(V[i,j]*cycletime[j] for j in range(S))/720*100\n",
    "\n",
    "#     model.addConstr(utilization >= 0.7)\n",
    "#     model.addConstr(utilization <= 0.76)\n"
   ]
  },
  {
   "cell_type": "code",
   "execution_count": 142,
   "metadata": {},
   "outputs": [
    {
     "name": "stdout",
     "output_type": "stream",
     "text": [
      "Gurobi Optimizer version 10.0.3 build v10.0.3rc0 (mac64[arm])\n",
      "\n",
      "CPU model: Apple M2 Pro\n",
      "Thread count: 10 physical cores, 10 logical processors, using up to 10 threads\n",
      "\n",
      "Optimize a model with 14 rows, 41 columns and 126 nonzeros\n",
      "Model fingerprint: 0x014d77e7\n",
      "Variable types: 0 continuous, 41 integer (0 binary)\n",
      "Coefficient statistics:\n",
      "  Matrix range     [1e-01, 1e+02]\n",
      "  Objective range  [1e+00, 1e+00]\n",
      "  Bounds range     [0e+00, 0e+00]\n",
      "  RHS range        [6e+02, 6e+02]\n",
      "Found heuristic solution: objective -0.0000000\n",
      "Presolve removed 1 rows and 0 columns\n",
      "Presolve time: 0.00s\n",
      "Presolved: 13 rows, 41 columns, 85 nonzeros\n",
      "Variable types: 0 continuous, 41 integer (0 binary)\n",
      "\n",
      "Root relaxation: objective 7.692308e+01, 19 iterations, 0.00 seconds (0.00 work units)\n",
      "\n",
      "    Nodes    |    Current Node    |     Objective Bounds      |     Work\n",
      " Expl Unexpl |  Obj  Depth IntInf | Incumbent    BestBd   Gap | It/Node Time\n",
      "\n",
      "     0     0   76.92308    0   13   -0.00000   76.92308      -     -    0s\n",
      "H    0     0                      70.0000000   76.92308  9.89%     -    0s\n",
      "\n",
      "Cutting planes:\n",
      "  Gomory: 3\n",
      "  MIR: 8\n",
      "  Mod-K: 1\n",
      "\n",
      "Explored 1 nodes (23 simplex iterations) in 0.01 seconds (0.00 work units)\n",
      "Thread count was 10 (of 10 available processors)\n",
      "\n",
      "Solution count 2: 70 -0 \n",
      "\n",
      "Optimal solution found (tolerance 1.00e-04)\n",
      "Best objective 7.000000000000e+01, best bound 7.000000000000e+01, gap 0.0000%\n"
     ]
    }
   ],
   "source": [
    "model.optimize()"
   ]
  },
  {
   "cell_type": "code",
   "execution_count": 146,
   "metadata": {},
   "outputs": [
    {
     "name": "stdout",
     "output_type": "stream",
     "text": [
      "Obj: 70.0\n",
      "no of visit by train 1 to site  Goldsborg 3.0\n",
      "no of visit by train 1 to site  Kingston 2.0\n",
      "no of visit by train 1 to site  New Bern 4.0\n",
      "no of visit by train 2 to site  Goldsborg 2.0\n",
      "no of visit by train 2 to site  Kingston 8.0\n",
      "no of visit by train 3 to site  Kingston 8.0\n",
      "no of visit by train 3 to site  Washington 3.0\n",
      "no of visit by train 4 to site  Saratoga 3.0\n",
      "no of visit by train 4 to site  Kingston 3.0\n",
      "no of visit by train 4 to site  New Bern 3.0\n",
      "no of visit by train 5 to site  Goldsborg 2.0\n",
      "no of visit by train 5 to site  Washington 3.0\n",
      "no of visit by train 6 to site  Kingston 2.0\n",
      "no of visit by train 6 to site  Washington 5.0\n",
      "no of visit by train 6 to site  New Bern 1.0\n",
      "no of visit by train 7 to site  Saratoga 4.0\n",
      "no of visit by train 7 to site  Kingston 4.0\n",
      "no of visit by train 8 to site  Kingston 1.0\n",
      "no of visit by train 8 to site  Washington 3.0\n",
      "no of visit by train 8 to site  New Bern 6.0\n",
      "total_trip_count 70.0\n",
      "Total time train  1 has been used is  576.0\n",
      "Total time train  2 has been used is  576.0\n",
      "Total time train  3 has been used is  600.0\n",
      "Total time train  4 has been used is  576.0\n",
      "Total time train  5 has been used is  408.0\n",
      "Total time train  6 has been used is  504.0\n",
      "Total time train  7 has been used is  576.0\n",
      "Total time train  8 has been used is  552.0\n",
      "Utilization of train  1 is  80.0 %\n",
      "Utilization of train  2 is  80.0 %\n",
      "Utilization of train  3 is  83.33333333333334 %\n",
      "Utilization of train  4 is  80.0 %\n",
      "Utilization of train  5 is  56.666666666666664 %\n",
      "Utilization of train  6 is  70.0 %\n",
      "Utilization of train  7 is  80.0 %\n",
      "Utilization of train  8 is  76.66666666666667 %\n",
      "Average utilization of all trains is  75.83333333333333 %\n"
     ]
    }
   ],
   "source": [
    "# Print the optimal value of the decision variables\n",
    "\n",
    "# Print the optimal objective value\n",
    "print('Obj:', model.objVal)\n",
    "\n",
    "#Gettign the values for the decision variables\n",
    "for v in model.getVars():\n",
    "    if v.x > 0:\n",
    "        print(v.varName, v.x)\n",
    "\n",
    "\n",
    "#Printing the total time each train has been used\n",
    "for i in range(T):\n",
    "    print(\"Total time train \", i+1, \"has been used is \", sum(V[i,j].x*cycletime[j] for j in range(S)))\n",
    "#now calculating the utlizing of each train iin percentage terms based on 720 hours avaialable\n",
    "train_utilization = []\n",
    "for i in range(T):\n",
    "    print(\"Utilization of train \", i+1, \"is \", sum(V[i,j].x*cycletime[j] for j in range(S))/720*100, \"%\")\n",
    "    train_utilization.append(sum(V[i,j].x*cycletime[j] for j in range(S))/720*100)\n",
    "\n",
    "\n",
    "#Getting average utilization of all trains\n",
    "print(\"Average utilization of all trains is \", sum(train_utilization)/len(train_utilization), \"%\")"
   ]
  },
  {
   "cell_type": "code",
   "execution_count": null,
   "metadata": {},
   "outputs": [],
   "source": []
  }
 ],
 "metadata": {
  "kernelspec": {
   "display_name": "Python 3",
   "language": "python",
   "name": "python3"
  },
  "language_info": {
   "codemirror_mode": {
    "name": "ipython",
    "version": 3
   },
   "file_extension": ".py",
   "mimetype": "text/x-python",
   "name": "python",
   "nbconvert_exporter": "python",
   "pygments_lexer": "ipython3",
   "version": "3.11.5"
  },
  "orig_nbformat": 4
 },
 "nbformat": 4,
 "nbformat_minor": 2
}
